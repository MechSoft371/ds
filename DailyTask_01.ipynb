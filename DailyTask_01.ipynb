{
  "nbformat": 4,
  "nbformat_minor": 0,
  "metadata": {
    "colab": {
      "provenance": []
    },
    "kernelspec": {
      "name": "python3",
      "display_name": "Python 3"
    },
    "language_info": {
      "name": "python"
    }
  },
  "cells": [
    {
      "cell_type": "markdown",
      "source": [
        " 1Q. Create different variables to store your name, your age, and your parents name.\n",
        "a. Print your name.\n",
        "b. Create more variables needed for the Biodata.\n",
        "c. Now print your whole biodata using above variables.\n"
      ],
      "metadata": {
        "id": "Kq0PSqRjQ3Yq"
      }
    },
    {
      "cell_type": "code",
      "execution_count": 1,
      "metadata": {
        "colab": {
          "base_uri": "https://localhost:8080/"
        },
        "id": "enJkc7IEQybo",
        "outputId": "9959e1aa-79b1-499a-a63b-c52d7015945d"
      },
      "outputs": [
        {
          "output_type": "stream",
          "name": "stdout",
          "text": [
            "Prudhvi\n",
            "Prudhvi 29 SatyaNaraya\n"
          ]
        }
      ],
      "source": [
        "my_name=\"Prudhvi\"\n",
        "my_age=29\n",
        "my_parents_name= \"SatyaNaraya\"\n",
        "print(my_name)\n",
        "print(my_name, my_age, my_parents_name)"
      ]
    },
    {
      "cell_type": "markdown",
      "source": [
        "Q2. Create two variables. One to store your First name and another to store your surname. Now, Print your name so that the surname prints first.\n"
      ],
      "metadata": {
        "id": "Erxlqrs-R1D3"
      }
    },
    {
      "cell_type": "code",
      "source": [
        "Sur_name = \"Peddi\"\n",
        "First_name = \"Prudhvi\"\n",
        "print(Sur_name, First_name)"
      ],
      "metadata": {
        "colab": {
          "base_uri": "https://localhost:8080/"
        },
        "id": "AEaXi8lER4-L",
        "outputId": "38304f54-5ba8-4ef7-b555-4829a95f66fc"
      },
      "execution_count": 3,
      "outputs": [
        {
          "output_type": "stream",
          "name": "stdout",
          "text": [
            "Peddi Prudhvi\n"
          ]
        }
      ]
    },
    {
      "cell_type": "markdown",
      "source": [
        "Q3. Write rules on how to create a variable in a markdown cell using text formatting."
      ],
      "metadata": {
        "id": "lHgp_i3uSZ0l"
      }
    },
    {
      "cell_type": "markdown",
      "source": [
        "Rule Of variables:\n",
        "1. A variable name must start with a letter or the underscore character.\n",
        "ex: my_name\n",
        "2. A variable name cannot start with a number.\n",
        "ex: number1 is correct . 1one is incorrect formate\n",
        "3. A variable  can contains alph-nueric characters.\n",
        "ex: Test_variable2\n",
        "4. variable is case sensitive\n",
        "ex: a= 10 and A=20. Both a&A are two different variables"
      ],
      "metadata": {
        "id": "IS5U-3pZVsjN"
      }
    },
    {
      "cell_type": "markdown",
      "source": [
        "Q4. Create a variable called break and assign it a value 16. See what happens, and find out the reason behind the behavior that you see.\n"
      ],
      "metadata": {
        "id": "tDUKvT7XW0_0"
      }
    },
    {
      "cell_type": "code",
      "source": [
        "break = 16"
      ],
      "metadata": {
        "id": "WV3_2_nuWQAx"
      },
      "execution_count": null,
      "outputs": []
    },
    {
      "cell_type": "markdown",
      "source": [
        "break is reserve word so we can't assign a value to reserve word"
      ],
      "metadata": {
        "id": "L7w4-SNNX8HB"
      }
    },
    {
      "cell_type": "markdown",
      "source": [
        "Q5.\n",
        "    a. Assign the values 1, 2, and 3 to the variables x, y, and z, respectively, in a single line.\n",
        "    b. Print the values of x, y, and z.\n"
      ],
      "metadata": {
        "id": "cLTGCrkTYH4c"
      }
    },
    {
      "cell_type": "code",
      "source": [
        "x,y,z=1,2,3\n",
        "print(x,y,z)\n"
      ],
      "metadata": {
        "colab": {
          "base_uri": "https://localhost:8080/"
        },
        "id": "i0ULOql_YMOa",
        "outputId": "01027636-4302-4949-9dfc-17f7e2d05d40"
      },
      "execution_count": 5,
      "outputs": [
        {
          "output_type": "stream",
          "name": "stdout",
          "text": [
            "1 2 3\n"
          ]
        }
      ]
    }
  ]
}